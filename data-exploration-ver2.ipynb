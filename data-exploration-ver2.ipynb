{
 "cells": [
  {
   "cell_type": "markdown",
   "id": "d9df27ae",
   "metadata": {
    "papermill": {
     "duration": 0.005886,
     "end_time": "2022-08-17T09:54:35.386559",
     "exception": false,
     "start_time": "2022-08-17T09:54:35.380673",
     "status": "completed"
    },
    "tags": []
   },
   "source": [
    "## Preparing Datasets & Dependencies"
   ]
  },
  {
   "cell_type": "code",
   "execution_count": 1,
   "id": "975ffa81",
   "metadata": {
    "_kg_hide-input": true,
    "_kg_hide-output": true,
    "execution": {
     "iopub.execute_input": "2022-08-17T09:54:35.398186Z",
     "iopub.status.busy": "2022-08-17T09:54:35.397667Z",
     "iopub.status.idle": "2022-08-17T09:54:35.410940Z",
     "shell.execute_reply": "2022-08-17T09:54:35.409409Z"
    },
    "papermill": {
     "duration": 0.023621,
     "end_time": "2022-08-17T09:54:35.414876",
     "exception": false,
     "start_time": "2022-08-17T09:54:35.391255",
     "status": "completed"
    },
    "tags": []
   },
   "outputs": [],
   "source": [
    "# Paths\n",
    "db_path = \"/kaggle/input/metal-bind-predict/metalBindPredict/db/uniprot_data\"\n",
    "scripts_path = \"/kaggle/input/metal-bind-predict/metalBindPredict/scripts\""
   ]
  },
  {
   "cell_type": "code",
   "execution_count": 2,
   "id": "104607b6",
   "metadata": {
    "_kg_hide-input": true,
    "_kg_hide-output": true,
    "execution": {
     "iopub.execute_input": "2022-08-17T09:54:35.426702Z",
     "iopub.status.busy": "2022-08-17T09:54:35.426170Z",
     "iopub.status.idle": "2022-08-17T09:54:36.708709Z",
     "shell.execute_reply": "2022-08-17T09:54:36.707026Z"
    },
    "papermill": {
     "duration": 1.29207,
     "end_time": "2022-08-17T09:54:36.711664",
     "exception": false,
     "start_time": "2022-08-17T09:54:35.419594",
     "status": "completed"
    },
    "tags": []
   },
   "outputs": [],
   "source": [
    "# Dependencies\n",
    "import os\n",
    "import pandas as pd\n",
    "import matplotlib as plt\n",
    "import numpy as np\n",
    "import sys\n",
    "#import gtfparse\n",
    "import seaborn as sns\n",
    "#conda install -c bioconda gtfparse\n",
    "\n",
    "# global settings\n",
    "sns.set(rc={'figure.figsize':(11.7,8.27)})\n",
    "os.chdir(db_path)\n",
    "\n",
    "eco_definition = {'ECO:0000255': \"match to sequence model evidence that is used in a manual assertion.\",\n",
    " 'ECO:0000269': \"experimental evidence that is used in a manual assertion.\", \n",
    " 'ECO:0007744': \"combinatorial computational and experimental evidence used in manual assertion\",\n",
    " 'ECO:0000250': \"sequence similarity evidence used in manual assertion\",\n",
    " 'ECO:0000305': \"curator inference used in manual assertion\",\n",
    " 'ECO:0000312': \"imported information used in manual assertion\",\n",
    " 'ECO:0000303': \"author statement without traceable support used in manual assertion\"\n",
    "}\n",
    "\n",
    "evidence = {'ECO:0000255': \"OTHER\",\n",
    " 'ECO:0000269': \"EXPERI\", \n",
    " 'ECO:0007744': \"EXPERI & COMP\",\n",
    " 'ECO:0000250': \"SEQ SIMILAR\",\n",
    " 'ECO:0000305': \"CURATOR\",\n",
    " 'ECO:0000312': \"OTHER\",\n",
    " 'ECO:0000303': \"OTHER\"\n",
    "}"
   ]
  },
  {
   "cell_type": "markdown",
   "id": "90abb8fd",
   "metadata": {
    "papermill": {
     "duration": 0.004364,
     "end_time": "2022-08-17T09:54:36.720991",
     "exception": false,
     "start_time": "2022-08-17T09:54:36.716627",
     "status": "completed"
    },
    "tags": []
   },
   "source": [
    "## Functions"
   ]
  },
  {
   "cell_type": "code",
   "execution_count": 3,
   "id": "e56eeaa4",
   "metadata": {
    "_kg_hide-input": true,
    "execution": {
     "iopub.execute_input": "2022-08-17T09:54:36.732239Z",
     "iopub.status.busy": "2022-08-17T09:54:36.731739Z",
     "iopub.status.idle": "2022-08-17T09:54:36.751889Z",
     "shell.execute_reply": "2022-08-17T09:54:36.750194Z"
    },
    "papermill": {
     "duration": 0.029517,
     "end_time": "2022-08-17T09:54:36.755020",
     "exception": false,
     "start_time": "2022-08-17T09:54:36.725503",
     "status": "completed"
    },
    "tags": []
   },
   "outputs": [],
   "source": [
    "# function to read fasta files into dataframes\n",
    "import pandas as pd\n",
    "def read_fasta(file_name,file_path, columns) :\n",
    "    from Bio.SeqIO.FastaIO import SimpleFastaParser \n",
    "    with open(file_name) as fasta_file:  \n",
    "        records = [] # create empty list\n",
    "        for title, sequence in SimpleFastaParser(fasta_file): #SimpleFastaParser Iterate over Fasta records as string tuples. For each record a tuple of two strings is returned, the FASTA title line (without the leading ‘>’ character), and the sequence (with any whitespace removed). \n",
    "            record = []\n",
    "            title_splits=title.split('|') # Data cleaning is needed\n",
    "            #print(title_splits)\n",
    "                 \n",
    "            \n",
    "            record.append(title_splits[1])  #First values are ID (Append adds element to a list)\n",
    "            record.append(len(sequence)) #Second values are sequences lengths\n",
    "            record.append(title_splits[2]) #It converts into one line\n",
    "            record.append(sequence)#Third values are sequences\n",
    "            records.append(record)\n",
    "    return pd.DataFrame(records, columns = columns) #We have created a function that returns a dataframe\n",
    "\n",
    "# Getting part of the sequence before and after the binding amino acids with an offset of 3 amino acids\n",
    "def window_3(df,Position,sequence):\n",
    "    if Position <= 3:\n",
    "        return sequence[:Position+3]\n",
    "    if Position >= df['Position'].max()-3:\n",
    "        return sequence[Position-4:]\n",
    "    else:\n",
    "        return sequence[Position-4:Position+3]\n",
    "\n",
    "\n",
    "# Getting part of the sequence before and after the binding amino acids with an offset of 10 amino acids\n",
    "def window_10(df,Position,sequence):\n",
    "    if Position <= 10:\n",
    "        return sequence[:Position+10]\n",
    "    if Position >= df['Position'].max()-10:\n",
    "        return sequence[Position-11:]\n",
    "    else:\n",
    "        return sequence[Position-11:Position+10]\n",
    "\n",
    "#pos_df[\"window_3\"] = pos_df.apply(lambda row: window_3(pos_df,row[\"Position\"],row[\"sequence\"]),axis=1)\n",
    "#pos_df[\"window_10\"] = pos_df.apply(lambda row: window_10(pos_df,row[\"Position\"],row[\"sequence\"]),axis=1)\n",
    "\n",
    "# pos dataframe setup function\n",
    "def pos_df_setup(fasta_file, tsv_file, chebi_ids):\n",
    "    fasta_file = read_fasta(fasta_file,db_path, columns=[\"id\",\"seq_length\",\"info\", \"sequence\"])\n",
    "    tsv_file = pd.read_csv(db_path+'/'+tsv_file, sep='\\t', header=0)\n",
    "    \n",
    "    # merging tsv and fasta\n",
    "    pos_df = pd.merge(tsv_file, fasta_file, left_on='Accession', right_on='id')\n",
    "    \n",
    "    # function to determine the amino acid that the binding happened at\n",
    "    pos_df['binding_residue'] = pos_df.apply(lambda row: row.sequence[row.Position-1] , axis=1)\n",
    "    \n",
    "    pos_df['eco_definition'] = pos_df.apply(lambda row: eco_definition[row.Evidence], axis=1)\n",
    "    pos_df['evidence'] = pos_df.apply(lambda row: evidence[row.Evidence], axis=1)\n",
    "\n",
    "    \n",
    "    chebi_id_df = pd.read_csv(db_path+'/'+chebi_ids, sep='\\t', header=0)\n",
    "    chebi_id_df = chebi_id_df[['ChEBI-ID','Name']]\n",
    "    \n",
    "    pos_df = pd.merge(pos_df, chebi_id_df, left_on='ChEBI-ID', right_on='ChEBI-ID')\n",
    "    pos_df = pos_df[['Accession','Evidence','ChEBI-ID','Position','Name','binding_residue','eco_definition','sequence','evidence']]\n",
    "    pos_df = pos_df.rename(columns={\"Name\": \"metal_ion_name\"})\n",
    "    \n",
    "\n",
    "    return pos_df\n",
    "    \n"
   ]
  },
  {
   "cell_type": "code",
   "execution_count": 4,
   "id": "45811ad0",
   "metadata": {
    "_kg_hide-input": true,
    "execution": {
     "iopub.execute_input": "2022-08-17T09:54:36.765809Z",
     "iopub.status.busy": "2022-08-17T09:54:36.765291Z",
     "iopub.status.idle": "2022-08-17T09:55:06.562390Z",
     "shell.execute_reply": "2022-08-17T09:55:06.561124Z"
    },
    "papermill": {
     "duration": 29.805992,
     "end_time": "2022-08-17T09:55:06.565468",
     "exception": false,
     "start_time": "2022-08-17T09:54:36.759476",
     "status": "completed"
    },
    "tags": []
   },
   "outputs": [],
   "source": [
    "# loading all pos datasets\n",
    "pos_train = pos_df_setup(\"POS_TRAIN.fasta\", 'POS_TRAIN.tsv', 'ChEBI-IDs_for_metal_binding.tsv')\n",
    "pos_train_full = pos_df_setup(\"POS_TRAIN_FULL.fasta\", 'POS_TRAIN_FULL.tsv', 'ChEBI-IDs_for_metal_binding.tsv')\n",
    "pos_train_lit_based = pos_train_full[pos_train_full['Evidence']=='ECO:0000269'].drop(columns=['Evidence'])\n",
    "pos_train_comp_based = pos_train_full[pos_train_full['Evidence']=='ECO:0007744'].drop(columns=['Evidence'])\n",
    "pos_train_both_based = pos_train.drop(columns=['Evidence']); pos_train_both_based = pos_train_both_based[pos_train_both_based.duplicated()]"
   ]
  },
  {
   "cell_type": "markdown",
   "id": "482a1cb9",
   "metadata": {
    "papermill": {
     "duration": 0.004465,
     "end_time": "2022-08-17T09:55:06.575192",
     "exception": false,
     "start_time": "2022-08-17T09:55:06.570727",
     "status": "completed"
    },
    "tags": []
   },
   "source": [
    "## Constructing different DB from Full Pos Train "
   ]
  },
  {
   "cell_type": "code",
   "execution_count": 5,
   "id": "a5f373cb",
   "metadata": {
    "execution": {
     "iopub.execute_input": "2022-08-17T09:55:06.587081Z",
     "iopub.status.busy": "2022-08-17T09:55:06.586616Z",
     "iopub.status.idle": "2022-08-17T10:00:44.188469Z",
     "shell.execute_reply": "2022-08-17T10:00:44.186234Z"
    },
    "papermill": {
     "duration": 337.617346,
     "end_time": "2022-08-17T10:00:44.197224",
     "exception": false,
     "start_time": "2022-08-17T09:55:06.579878",
     "status": "completed"
    },
    "tags": []
   },
   "outputs": [
    {
     "data": {
      "text/html": [
       "<div>\n",
       "<style scoped>\n",
       "    .dataframe tbody tr th:only-of-type {\n",
       "        vertical-align: middle;\n",
       "    }\n",
       "\n",
       "    .dataframe tbody tr th {\n",
       "        vertical-align: top;\n",
       "    }\n",
       "\n",
       "    .dataframe thead th {\n",
       "        text-align: right;\n",
       "    }\n",
       "</style>\n",
       "<table border=\"1\" class=\"dataframe\">\n",
       "  <thead>\n",
       "    <tr style=\"text-align: right;\">\n",
       "      <th></th>\n",
       "      <th>uniprot_ids</th>\n",
       "      <th>n_species_with_this_br</th>\n",
       "      <th>chebi_id</th>\n",
       "      <th>evidence_ids</th>\n",
       "      <th>n_evidences</th>\n",
       "      <th>Position</th>\n",
       "      <th>sequence</th>\n",
       "    </tr>\n",
       "  </thead>\n",
       "  <tbody>\n",
       "    <tr>\n",
       "      <th>0</th>\n",
       "      <td>[O24396]</td>\n",
       "      <td>1</td>\n",
       "      <td>[CHEBI:18420]</td>\n",
       "      <td>[ECO:0000255]</td>\n",
       "      <td>1</td>\n",
       "      <td>[64, 91]</td>\n",
       "      <td>AAAAAGRGRSFSPAAPAPSSVRLPGRQAPAPAAASALAVEADPAAD...</td>\n",
       "    </tr>\n",
       "    <tr>\n",
       "      <th>1</th>\n",
       "      <td>[P80405]</td>\n",
       "      <td>1</td>\n",
       "      <td>[CHEBI:18420]</td>\n",
       "      <td>[ECO:0000250]</td>\n",
       "      <td>1</td>\n",
       "      <td>[154, 189]</td>\n",
       "      <td>AAAAAVSGAKRSLRAELKQRLRAISAEERLRCQRLLTQKVIAHRQY...</td>\n",
       "    </tr>\n",
       "    <tr>\n",
       "      <th>2</th>\n",
       "      <td>[P83473]</td>\n",
       "      <td>1</td>\n",
       "      <td>[CHEBI:29108]</td>\n",
       "      <td>[ECO:0000250]</td>\n",
       "      <td>1</td>\n",
       "      <td>[18, 11, 15]</td>\n",
       "      <td>AAAELSLVQLESLREVCEQ</td>\n",
       "    </tr>\n",
       "    <tr>\n",
       "      <th>3</th>\n",
       "      <td>[P68734]</td>\n",
       "      <td>1</td>\n",
       "      <td>[CHEBI:29105, CHEBI:29108]</td>\n",
       "      <td>[ECO:0000255]</td>\n",
       "      <td>1</td>\n",
       "      <td>[167, 139, 143, 178, 147, 181, 183, 186]</td>\n",
       "      <td>AAATGSGTTLKGATVPLNISYEGGKYVLRDLSKPTGTQIITYDLQN...</td>\n",
       "    </tr>\n",
       "    <tr>\n",
       "      <th>4</th>\n",
       "      <td>[A7TUG9]</td>\n",
       "      <td>1</td>\n",
       "      <td>[CHEBI:18420]</td>\n",
       "      <td>[ECO:0000250]</td>\n",
       "      <td>1</td>\n",
       "      <td>[209, 302]</td>\n",
       "      <td>AAAWMLNGCLQVMDSRTIPANRNADNVDPALQTATHLCFPTRPVRV...</td>\n",
       "    </tr>\n",
       "  </tbody>\n",
       "</table>\n",
       "</div>"
      ],
      "text/plain": [
       "  uniprot_ids  n_species_with_this_br                    chebi_id  \\\n",
       "0    [O24396]                       1               [CHEBI:18420]   \n",
       "1    [P80405]                       1               [CHEBI:18420]   \n",
       "2    [P83473]                       1               [CHEBI:29108]   \n",
       "3    [P68734]                       1  [CHEBI:29105, CHEBI:29108]   \n",
       "4    [A7TUG9]                       1               [CHEBI:18420]   \n",
       "\n",
       "    evidence_ids  n_evidences                                  Position  \\\n",
       "0  [ECO:0000255]            1                                  [64, 91]   \n",
       "1  [ECO:0000250]            1                                [154, 189]   \n",
       "2  [ECO:0000250]            1                              [18, 11, 15]   \n",
       "3  [ECO:0000255]            1  [167, 139, 143, 178, 147, 181, 183, 186]   \n",
       "4  [ECO:0000250]            1                                [209, 302]   \n",
       "\n",
       "                                            sequence  \n",
       "0  AAAAAGRGRSFSPAAPAPSSVRLPGRQAPAPAAASALAVEADPAAD...  \n",
       "1  AAAAAVSGAKRSLRAELKQRLRAISAEERLRCQRLLTQKVIAHRQY...  \n",
       "2                                AAAELSLVQLESLREVCEQ  \n",
       "3  AAATGSGTTLKGATVPLNISYEGGKYVLRDLSKPTGTQIITYDLQN...  \n",
       "4  AAAWMLNGCLQVMDSRTIPANRNADNVDPALQTATHLCFPTRPVRV...  "
      ]
     },
     "execution_count": 5,
     "metadata": {},
     "output_type": "execute_result"
    }
   ],
   "source": [
    "test_df = pos_train_full.copy()\n",
    "\n",
    "# adding unique sequence column\n",
    "new_df = pd.DataFrame(columns=['sequence'])\n",
    "for i in set(test_df['sequence']):\n",
    "    new_df = new_df.append({'sequence': i}, ignore_index=True)\n",
    "    \n",
    "# adding uniprot ids that correspond to each sequence\n",
    "temp = pd.DataFrame(test_df.groupby('sequence')['Accession'].apply(list))\n",
    "temp['Accession'] = temp['Accession'].apply(set)\n",
    "new_df = pd.merge(temp, new_df, left_on='sequence', right_on='sequence')\n",
    "\n",
    "# adding column for number of species with the same sequence\n",
    "new_df['n_species_with_this_br'] = [len(seq) for seq in new_df['Accession']]\n",
    "\n",
    "# adding chebi-ids column\n",
    "temp = pd.DataFrame(test_df.groupby('sequence')['ChEBI-ID'].apply(list))\n",
    "temp['ChEBI-ID'] = temp['ChEBI-ID'].apply(set)\n",
    "new_df = pd.merge(temp, new_df, left_on='sequence', right_on='sequence')\n",
    "\n",
    "# adding evidence ids column\n",
    "temp = pd.DataFrame(test_df.groupby('sequence')['Evidence'].apply(list))\n",
    "temp['evidence_ids'] = temp['Evidence'].apply(set)\n",
    "new_df = pd.merge(temp, new_df, left_on='sequence', right_on='sequence')\n",
    "new_df = new_df.drop(columns= {'Evidence'})\n",
    "\n",
    "# adding number of evidences column\n",
    "new_df['n_evidences'] = [len(seq) for seq in new_df['evidence_ids']]\n",
    "\n",
    "# adding position column that correspond to the same sequence\n",
    "temp = pd.DataFrame(test_df.groupby('sequence')['Position'].apply(list))\n",
    "temp['Position'] = temp['Position'].apply(set)\n",
    "new_df = pd.merge(temp, new_df, left_on='sequence', right_on='sequence')\n",
    "new_df.head()\n",
    "\n",
    "# adjusting df\n",
    "new_df = new_df.rename(columns={'Accession': 'uniprot_ids','ChEBI-ID': 'chebi_id'})\n",
    "new_df = new_df[['uniprot_ids','n_species_with_this_br', 'chebi_id', 'evidence_ids', 'n_evidences', 'Position', 'sequence']]\n",
    "new_df.uniprot_ids = new_df.uniprot_ids.apply(list)\n",
    "new_df.chebi_id = new_df.chebi_id.apply(list)\n",
    "new_df.evidence_ids = new_df.evidence_ids.apply(list)\n",
    "new_df.Position = new_df.Position.apply(list)\n",
    "\n",
    "new_df.head()"
   ]
  },
  {
   "cell_type": "code",
   "execution_count": 6,
   "id": "710c3d79",
   "metadata": {
    "execution": {
     "iopub.execute_input": "2022-08-17T10:00:44.210081Z",
     "iopub.status.busy": "2022-08-17T10:00:44.208743Z",
     "iopub.status.idle": "2022-08-17T10:00:45.493909Z",
     "shell.execute_reply": "2022-08-17T10:00:45.492691Z"
    },
    "papermill": {
     "duration": 1.294934,
     "end_time": "2022-08-17T10:00:45.497134",
     "exception": false,
     "start_time": "2022-08-17T10:00:44.202200",
     "status": "completed"
    },
    "tags": []
   },
   "outputs": [],
   "source": [
    "# saving df as csv\n",
    "os.chdir('/kaggle/working')\n",
    "new_df.to_csv('new_df.csv')"
   ]
  },
  {
   "cell_type": "markdown",
   "id": "dcdf0323",
   "metadata": {
    "papermill": {
     "duration": 0.005391,
     "end_time": "2022-08-17T10:00:45.507854",
     "exception": false,
     "start_time": "2022-08-17T10:00:45.502463",
     "status": "completed"
    },
    "tags": []
   },
   "source": [
    "# Exploring Duplicates"
   ]
  },
  {
   "cell_type": "code",
   "execution_count": 7,
   "id": "e344d4e1",
   "metadata": {
    "_kg_hide-input": true,
    "execution": {
     "iopub.execute_input": "2022-08-17T10:00:45.520775Z",
     "iopub.status.busy": "2022-08-17T10:00:45.520292Z",
     "iopub.status.idle": "2022-08-17T10:00:45.530476Z",
     "shell.execute_reply": "2022-08-17T10:00:45.529175Z"
    },
    "papermill": {
     "duration": 0.020439,
     "end_time": "2022-08-17T10:00:45.533834",
     "exception": false,
     "start_time": "2022-08-17T10:00:45.513395",
     "status": "completed"
    },
    "tags": []
   },
   "outputs": [],
   "source": [
    "# function for duplicates exploring \n",
    "def duplicate_explore(df):\n",
    "    temp = df.groupby(\"sequence\")[\"Accession\"].agg(list)\n",
    "    df[\"Multi_IDs\"] = df[\"sequence\"].map(temp[temp.str.len().ge(2)])\n",
    "    \n",
    "    print(\"This dataset contains (%d) records.\"%(len(df)))\n",
    "    \n",
    "    # counting sequences that has more than one unique id\n",
    "    count = 0\n",
    "    for i in df[\"Multi_IDs\"]:\n",
    "        if type(i) is list:\n",
    "            if len(set(i))==1:\n",
    "                count+=1\n",
    "    print(\"This dataset contains (%d) sequances that has only one unique id but more than one binding site\"%(count))\n",
    "\n",
    "                \n",
    "    # counting sequences that has more than one unique id\n",
    "    count = 0\n",
    "    for i in df[\"Multi_IDs\"]:\n",
    "        if type(i) is list:\n",
    "            if len(set(i))>1:\n",
    "                count+=1\n",
    "                #print(set(i))\n",
    "    \n",
    "    print(\"This dataset contains (%d) sequences that has more than one unique id.\"%(count))\n",
    "    \n",
    "    # counting sequences that has only one id and only one binding position\n",
    "    count = 0\n",
    "    for i in df[\"Multi_IDs\"]:\n",
    "        if type(i) is float:\n",
    "            count+=1\n",
    "    \n",
    "    print(\"This dataset contains (%d) sequences that has only one id and only one binding position\"%(count))\n"
   ]
  },
  {
   "cell_type": "code",
   "execution_count": 8,
   "id": "c91a2b71",
   "metadata": {
    "execution": {
     "iopub.execute_input": "2022-08-17T10:00:45.548113Z",
     "iopub.status.busy": "2022-08-17T10:00:45.546968Z",
     "iopub.status.idle": "2022-08-17T10:00:45.553796Z",
     "shell.execute_reply": "2022-08-17T10:00:45.552521Z"
    },
    "papermill": {
     "duration": 0.018173,
     "end_time": "2022-08-17T10:00:45.557359",
     "exception": false,
     "start_time": "2022-08-17T10:00:45.539186",
     "status": "completed"
    },
    "tags": []
   },
   "outputs": [],
   "source": [
    "#duplicate_explore(pos_train_lit_based)"
   ]
  },
  {
   "cell_type": "code",
   "execution_count": 9,
   "id": "00adebc8",
   "metadata": {
    "execution": {
     "iopub.execute_input": "2022-08-17T10:00:45.571826Z",
     "iopub.status.busy": "2022-08-17T10:00:45.570216Z",
     "iopub.status.idle": "2022-08-17T10:00:45.577886Z",
     "shell.execute_reply": "2022-08-17T10:00:45.576289Z"
    },
    "papermill": {
     "duration": 0.018028,
     "end_time": "2022-08-17T10:00:45.581135",
     "exception": false,
     "start_time": "2022-08-17T10:00:45.563107",
     "status": "completed"
    },
    "tags": []
   },
   "outputs": [],
   "source": [
    "#duplicate_explore(pos_train_both_based)"
   ]
  },
  {
   "cell_type": "code",
   "execution_count": 10,
   "id": "5b165a27",
   "metadata": {
    "execution": {
     "iopub.execute_input": "2022-08-17T10:00:45.594023Z",
     "iopub.status.busy": "2022-08-17T10:00:45.593446Z",
     "iopub.status.idle": "2022-08-17T10:00:45.600601Z",
     "shell.execute_reply": "2022-08-17T10:00:45.598568Z"
    },
    "papermill": {
     "duration": 0.017836,
     "end_time": "2022-08-17T10:00:45.604219",
     "exception": false,
     "start_time": "2022-08-17T10:00:45.586383",
     "status": "completed"
    },
    "tags": []
   },
   "outputs": [],
   "source": [
    "#duplicate_explore(pos_train_full)"
   ]
  }
 ],
 "metadata": {
  "kernelspec": {
   "display_name": "Python 3",
   "language": "python",
   "name": "python3"
  },
  "language_info": {
   "codemirror_mode": {
    "name": "ipython",
    "version": 3
   },
   "file_extension": ".py",
   "mimetype": "text/x-python",
   "name": "python",
   "nbconvert_exporter": "python",
   "pygments_lexer": "ipython3",
   "version": "3.7.12"
  },
  "papermill": {
   "default_parameters": {},
   "duration": 383.091285,
   "end_time": "2022-08-17T10:00:46.939050",
   "environment_variables": {},
   "exception": null,
   "input_path": "__notebook__.ipynb",
   "output_path": "__notebook__.ipynb",
   "parameters": {},
   "start_time": "2022-08-17T09:54:23.847765",
   "version": "2.3.4"
  }
 },
 "nbformat": 4,
 "nbformat_minor": 5
}
